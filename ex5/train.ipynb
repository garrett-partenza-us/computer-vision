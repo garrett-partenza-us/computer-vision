{
 "cells": [
  {
   "cell_type": "code",
   "execution_count": 45,
   "id": "c57f9b21-04e7-4c5b-9b96-2f8ec4dc751d",
   "metadata": {},
   "outputs": [],
   "source": [
    "import torch\n",
    "from torchvision import datasets, transforms\n",
    "import torch.nn as nn\n",
    "import torch.nn.functional as F\n",
    "from torch.optim.lr_scheduler import ExponentialLR\n",
    "from tqdm import tqdm\n",
    "import numpy as np\n",
    "import matplotlib.pyplot as plt"
   ]
  },
  {
   "cell_type": "code",
   "execution_count": 46,
   "id": "e23aaf7d-d35e-489e-85eb-39e63422604c",
   "metadata": {},
   "outputs": [
    {
     "data": {
      "text/plain": [
       "<torch._C.Generator at 0x2ba5fd3fd970>"
      ]
     },
     "execution_count": 46,
     "metadata": {},
     "output_type": "execute_result"
    }
   ],
   "source": [
    "torch.manual_seed(42)"
   ]
  },
  {
   "cell_type": "code",
   "execution_count": 47,
   "id": "2c988ccc-3270-431b-bf09-0f8cef5fe2f9",
   "metadata": {},
   "outputs": [],
   "source": [
    "torch.backends.cudnn.enabled = False"
   ]
  },
  {
   "cell_type": "code",
   "execution_count": 48,
   "id": "5ce32fba-23af-4d8a-a497-1bd97b87f612",
   "metadata": {},
   "outputs": [],
   "source": [
    "class Model(nn.Module):\n",
    "    def __init__(self):\n",
    "        super(Model, self).__init__()\n",
    "        self.conv1 = nn.Conv2d(1, 10, 5, 1)\n",
    "        self.conv2 = nn.Conv2d(10, 20, 5, 1)\n",
    "        self.dropout = nn.Dropout(0.5)\n",
    "        self.lin1 = nn.Linear(320,50)\n",
    "        self.lin2 = nn.Linear(50,10)\n",
    "\n",
    "    def forward(self, x):\n",
    "        x = self.conv1(x)\n",
    "        x = F.relu(x)\n",
    "        x = F.max_pool2d(x, 2)\n",
    "        x = self.conv2(x)\n",
    "        x = F.relu(x)\n",
    "        x = F.max_pool2d(x, 2)\n",
    "        x = self.dropout(x)\n",
    "        x = torch.flatten(x, 1)\n",
    "        x = self.lin1(x)\n",
    "        x = F.relu(x)\n",
    "        x = self.lin2(x)\n",
    "        output = F.log_softmax(x, dim=1)\n",
    "        return output"
   ]
  },
  {
   "cell_type": "code",
   "execution_count": 49,
   "id": "79edbf62-47eb-44df-aff7-ec39e0795f50",
   "metadata": {},
   "outputs": [
    {
     "data": {
      "text/plain": [
       "Model(\n",
       "  (conv1): Conv2d(1, 10, kernel_size=(5, 5), stride=(1, 1))\n",
       "  (conv2): Conv2d(10, 20, kernel_size=(5, 5), stride=(1, 1))\n",
       "  (dropout): Dropout(p=0.5, inplace=False)\n",
       "  (lin1): Linear(in_features=320, out_features=50, bias=True)\n",
       "  (lin2): Linear(in_features=50, out_features=10, bias=True)\n",
       ")"
      ]
     },
     "execution_count": 49,
     "metadata": {},
     "output_type": "execute_result"
    }
   ],
   "source": [
    "model = Model()\n",
    "lr = 1e-3\n",
    "batch_size = 256\n",
    "epochs = 5\n",
    "optimizer = torch.optim.Adam(model.parameters(), lr=lr)\n",
    "scheduler = ExponentialLR(optimizer, gamma=0.99)\n",
    "device = torch.device(\"cpu\")\n",
    "model.to(device)"
   ]
  },
  {
   "cell_type": "code",
   "execution_count": 50,
   "id": "b773c37d-0759-4677-ba2f-546ff954ad64",
   "metadata": {},
   "outputs": [],
   "source": [
    "transform = transforms.Compose([transforms.ToTensor()])\n",
    "mnist_trainset = datasets.MNIST('../data/train', train=True, download=True, transform=transform)\n",
    "mnist_testset = datasets.MNIST('../data/test', train=False, download=True, transform=transform)\n",
    "train_loader = torch.utils.data.DataLoader(list(zip(mnist_trainset.data, mnist_trainset.targets)), batch_size=batch_size, shuffle=True, drop_last=True)\n",
    "test_loader = torch.utils.data.DataLoader(list(zip(mnist_testset.data, mnist_testset.targets)), batch_size=batch_size, shuffle=True, drop_last=True)"
   ]
  },
  {
   "cell_type": "code",
   "execution_count": 51,
   "id": "af6e84e0-6a36-4875-92e9-e9c5e7af3c99",
   "metadata": {},
   "outputs": [
    {
     "name": "stdout",
     "output_type": "stream",
     "text": [
      "torch.Size([256, 28, 28])\n"
     ]
    }
   ],
   "source": [
    "for x,y in train_loader:\n",
    "    print(x.shape)\n",
    "    break"
   ]
  },
  {
   "cell_type": "code",
   "execution_count": 52,
   "id": "5af4bd78-e189-473d-8263-a543b15bcea1",
   "metadata": {},
   "outputs": [
    {
     "data": {
      "image/png": "[encoded data removed]",
      "text/plain": [
       "<Figure size 720x432 with 6 Axes>"
      ]
     },
     "metadata": {
      "needs_background": "light"
     },
     "output_type": "display_data"
    }
   ],
   "source": [
    "fig, axes = plt.subplots(2, 3, figsize=(10,6))\n",
    "for i in range(6):\n",
    "    axes[i//3, i%3].imshow(mnist_trainset.data[i])\n",
    "    axes[i//3, i%3].set_title('Label: {}'.format(mnist_trainset.targets[i]))\n",
    "plt.tight_layout()\n",
    "plt.show()"
   ]
  },
  {
   "cell_type": "code",
   "execution_count": 53,
   "id": "3dbdf2fa-837d-44f4-9b83-07b442a336b4",
   "metadata": {},
   "outputs": [
    {
     "name": "stderr",
     "output_type": "stream",
     "text": [
      "100%|██████████| 234/234 [00:08<00:00, 26.36it/s]\n",
      "100%|██████████| 39/39 [00:00<00:00, 60.42it/s]\n",
      "100%|██████████| 234/234 [00:13<00:00, 17.57it/s]\n",
      "100%|██████████| 39/39 [00:00<00:00, 49.77it/s]\n",
      "100%|██████████| 234/234 [00:10<00:00, 21.40it/s]\n",
      "100%|██████████| 39/39 [00:01<00:00, 34.58it/s]\n",
      "100%|██████████| 234/234 [00:07<00:00, 30.14it/s]\n",
      "100%|██████████| 39/39 [00:00<00:00, 55.37it/s]\n",
      "100%|██████████| 234/234 [00:07<00:00, 30.10it/s]\n",
      "100%|██████████| 39/39 [00:00<00:00, 87.33it/s]\n"
     ]
    }
   ],
   "source": [
    "train_loss = []\n",
    "test_loss = []\n",
    "for epoch in range(epochs):\n",
    "    \n",
    "    model.train()\n",
    "    for images, targets in tqdm(train_loader):\n",
    "        images, targets = images.to(device).float(), targets.to(device)\n",
    "        images = images.reshape(batch_size,1,28,28)\n",
    "        optimizer.zero_grad()\n",
    "        output = model(images)\n",
    "        loss = F.nll_loss(output, targets)\n",
    "        loss.backward()\n",
    "        optimizer.step()\n",
    "        train_loss.append(loss.item())\n",
    "        \n",
    "    model.eval()\n",
    "    temp = []\n",
    "    for images, targets in tqdm(test_loader):\n",
    "        images, targets = images.to(device).float(), targets.to(device)\n",
    "        images = images.reshape(batch_size,1,28,28)\n",
    "        output = model(images)\n",
    "        loss = F.nll_loss(output, targets)\n",
    "        temp.append(loss.item())\n",
    "    test_loss.append(np.mean(temp))"
   ]
  },
  {
   "cell_type": "code",
   "execution_count": 54,
   "id": "3ad2d919-0b4c-4afb-a113-c430c4697cc4",
   "metadata": {},
   "outputs": [
    {
     "data": {
      "image/png": "[encoded data removed]",
      "text/plain": [
       "<Figure size 720x432 with 1 Axes>"
      ]
     },
     "metadata": {
      "needs_background": "light"
     },
     "output_type": "display_data"
    }
   ],
   "source": [
    "plt.figure(figsize=(10,6))\n",
    "plt.plot(np.convolve(train_loss, np.ones(10)/10, mode='valid'), label='batch train loss (rolling)')\n",
    "plt.plot([len(train_loader)*epoch for epoch in range(1,epochs+1)], test_loss, \"--o\", color=\"red\", label='test error')\n",
    "plt.legend()\n",
    "plt.show()"
   ]
  },
  {
   "cell_type": "code",
   "execution_count": 55,
   "id": "8ba60b16-3189-4836-9b02-9b3a1682639a",
   "metadata": {},
   "outputs": [],
   "source": [
    "torch.save(model.state_dict(), 'models/base.pt')"
   ]
  },
  {
   "cell_type": "code",
   "execution_count": 56,
   "id": "edf802e9-e62c-4d6a-8e2b-a5b87350704a",
   "metadata": {},
   "outputs": [],
   "source": [
    "loaded_model = torch.load('models/base.pt')"
   ]
  },
  {
   "cell_type": "code",
   "execution_count": 57,
   "id": "05f4d4a8-39eb-40fd-b471-06684fa66060",
   "metadata": {},
   "outputs": [],
   "source": [
    "model.eval()\n",
    "sample = mnist_testset.data[:10].reshape(10,1,28,28).float()\n",
    "out = model(sample)\n",
    "pred = torch.argmax(out, dim=1)"
   ]
  },
  {
   "cell_type": "code",
   "execution_count": 58,
   "id": "f5d70b59-0505-45f9-8f4f-25b07612fd23",
   "metadata": {},
   "outputs": [
    {
     "data": {
      "image/png": "[encoded data removed]",
      "text/plain": [
       "<Figure size 720x432 with 10 Axes>"
      ]
     },
     "metadata": {
      "needs_background": "light"
     },
     "output_type": "display_data"
    }
   ],
   "source": [
    "fig, axes = plt.subplots(2, 5, figsize=(10,6))\n",
    "for i in range(10):\n",
    "    axes[i//5, i%5].imshow(mnist_testset.data[i])\n",
    "    axes[i//5, i%5].set_title('Label: {}, Prediction: {}'.format(mnist_testset.targets[i], pred[i]))\n",
    "plt.tight_layout()\n",
    "plt.show()"
   ]
  },
  {
   "cell_type": "code",
   "execution_count": 59,
   "id": "bc118da7-c890-4e36-a7d3-b3d539231a36",
   "metadata": {},
   "outputs": [],
   "source": [
    "import os\n",
    "import cv2\n",
    "\n",
    "DIR = 'mnist_drawn'\n",
    "\n",
    "images, labels = [], []\n",
    "\n",
    "#iterate over greek alphabet images\n",
    "for file in os.listdir(DIR):\n",
    "    if file.endswith('.png'):\n",
    "        #read image\n",
    "        img = cv2.imread(DIR+'/'+file)\n",
    "        #resize to 28x28\n",
    "        img = cv2.resize(img, (28,28))\n",
    "        #convert greyscale\n",
    "        img = cv2.cvtColor(img, cv2.COLOR_BGR2GRAY)\n",
    "        #convert to channel first\n",
    "        img = img.reshape(-1, 28, 28)\n",
    "        #get label\n",
    "        label = file.split('_')[0]\n",
    "        \n",
    "        #store as image and label\n",
    "        images.append(img)\n",
    "        labels.append(label)"
   ]
  },
  {
   "cell_type": "code",
   "execution_count": 60,
   "id": "771b5525-f3dc-420a-824d-a2350891fdd5",
   "metadata": {},
   "outputs": [
    {
     "data": {
      "text/plain": [
       "<matplotlib.image.AxesImage at 0x2ba61cf01790>"
      ]
     },
     "execution_count": 60,
     "metadata": {},
     "output_type": "execute_result"
    },
    {
     "data": {
      "image/png": "[encoded data removed]",
      "text/plain": [
       "<Figure size 432x288 with 1 Axes>"
      ]
     },
     "metadata": {
      "needs_background": "light"
     },
     "output_type": "display_data"
    }
   ],
   "source": [
    "#verify that drawk images resemble reasonable numbers\n",
    "plt.imshow(images[1].reshape(28,28))"
   ]
  },
  {
   "cell_type": "code",
   "execution_count": 61,
   "id": "708cef08-dd98-40ca-9a66-c999a81e70b2",
   "metadata": {},
   "outputs": [
    {
     "name": "stdout",
     "output_type": "stream",
     "text": [
      "Acc on Drawn Images: 0.111\n"
     ]
    }
   ],
   "source": [
    "#read drawn images, make predictions and score\n",
    "corr, wrong = 0, 0\n",
    "for image, label in zip(images, labels):\n",
    "    out = torch.argmax(model(torch.tensor([image], dtype=torch.float32)), dim=1).item()\n",
    "    truth = label.split('.')[0]\n",
    "    if int(out)==int(truth):\n",
    "        corr+=1\n",
    "    else:\n",
    "        wrong+=1\n",
    "        \n",
    "print(\"Acc on Drawn Images: {}\".format(round(corr/(corr+wrong), 3)))"
   ]
  },
  {
   "cell_type": "code",
   "execution_count": null,
   "id": "7f9a8376-d9af-457f-8cad-25ef050b793f",
   "metadata": {},
   "outputs": [],
   "source": []
  }
 ],
 "metadata": {
  "kernelspec": {
   "display_name": "Python 3 (ipykernel)",
   "language": "python",
   "name": "python3"
  },
  "language_info": {
   "codemirror_mode": {
    "name": "ipython",
    "version": 3
   },
   "file_extension": ".py",
   "mimetype": "text/x-python",
   "name": "python",
   "nbconvert_exporter": "python",
   "pygments_lexer": "ipython3",
   "version": "3.7.11"
  }
 },
 "nbformat": 4,
 "nbformat_minor": 5
}
