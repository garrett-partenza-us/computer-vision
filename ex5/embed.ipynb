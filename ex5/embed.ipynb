{
 "cells": [
  {
   "cell_type": "code",
   "execution_count": 30,
   "id": "77878eb0-1928-4ad6-9a9d-dd8bf49be30f",
   "metadata": {},
   "outputs": [],
   "source": [
    "#imports\n",
    "import torch\n",
    "import torch.nn as nn\n",
    "import torch.nn.functional as F"
   ]
  },
  {
   "cell_type": "code",
   "execution_count": 31,
   "id": "5fd16eba-490f-4ae2-8892-d29a59362fca",
   "metadata": {},
   "outputs": [],
   "source": [
    "#submodel class\n",
    "class Submodel(nn.Module):\n",
    "    def __init__(self):\n",
    "        super(Submodel, self).__init__()\n",
    "        self.conv1 = nn.Conv2d(1, 10, 5, 1)\n",
    "        self.conv2 = nn.Conv2d(10, 20, 5, 1)\n",
    "        self.dropout = nn.Dropout(0.5)\n",
    "        self.lin1 = nn.Linear(320,50)\n",
    "        self.lin2 = nn.Linear(50,10)\n",
    "\n",
    "    def forward(self, x):\n",
    "        x = self.conv1(x)\n",
    "        x = F.relu(x)\n",
    "        x = F.max_pool2d(x, 2)\n",
    "        x = self.conv2(x)\n",
    "        x = F.relu(x)\n",
    "        x = F.max_pool2d(x, 2)\n",
    "        x = self.dropout(x)\n",
    "        x = torch.flatten(x, 1)\n",
    "        x = self.lin1(x)\n",
    "        x = F.relu(x)\n",
    "        return x"
   ]
  },
  {
   "cell_type": "code",
   "execution_count": 32,
   "id": "da7a0310-5eff-4fdc-801f-b02e41e34929",
   "metadata": {},
   "outputs": [
    {
     "data": {
      "text/plain": [
       "<All keys matched successfully>"
      ]
     },
     "execution_count": 32,
     "metadata": {},
     "output_type": "execute_result"
    }
   ],
   "source": [
    "#load model with pretrained weights\n",
    "submodel = Submodel()\n",
    "submodel.eval()\n",
    "PATH = 'models/base.pt'\n",
    "submodel.load_state_dict(torch.load(PATH))"
   ]
  },
  {
   "cell_type": "code",
   "execution_count": 33,
   "id": "92975ce7-f852-4194-ace2-1967190c237e",
   "metadata": {},
   "outputs": [],
   "source": [
    "import os\n",
    "import cv2\n",
    "import numpy as np\n",
    "\n",
    "DIR = 'greek_letters'\n",
    "\n",
    "images, labels = [], []\n",
    "\n",
    "#iterate over greek alphabet images\n",
    "for file in os.listdir(DIR):\n",
    "    if file.endswith('.png'):\n",
    "        #read image\n",
    "        img = cv2.imread(DIR+'/'+file)\n",
    "        #resize to 28x28\n",
    "        img = cv2.resize(img, (28,28))\n",
    "        #convert greyscale\n",
    "        img = cv2.cvtColor(img, cv2.COLOR_BGR2GRAY)\n",
    "        #convert to channel first\n",
    "        img = img.reshape(-1, 28, 28)\n",
    "        #get label\n",
    "        label = file.split('_')[0]\n",
    "        \n",
    "        #store as image and label\n",
    "        images.append(img)\n",
    "        labels.append(label)"
   ]
  },
  {
   "cell_type": "code",
   "execution_count": 34,
   "id": "f51bf45e-faec-4f5d-8287-5893822da4e0",
   "metadata": {},
   "outputs": [],
   "source": [
    "#create embeddings using the submodel\n",
    "embeddings = []\n",
    "for img in images:\n",
    "    embed = submodel(torch.tensor([img], dtype=torch.float32))\n",
    "    embeddings.append(embed.detach().numpy().flatten())"
   ]
  },
  {
   "cell_type": "code",
   "execution_count": 35,
   "id": "58f27bd8-726a-4e7e-a575-1a952ba3a57a",
   "metadata": {},
   "outputs": [],
   "source": [
    "#convert embeddings and labels to pandas dataframe\n",
    "import pandas as pd\n",
    "\n",
    "data = {\n",
    "    'embedding': embeddings,\n",
    "    'label': labels\n",
    "}\n",
    "\n",
    "df = pd.DataFrame.from_dict(data)"
   ]
  },
  {
   "cell_type": "code",
   "execution_count": 36,
   "id": "6e1d8ca6-d383-4288-afc0-4ec452692d6d",
   "metadata": {},
   "outputs": [],
   "source": [
    "#function to calculate ssd\n",
    "def ssd(a, b):\n",
    "    return round(np.sum((a-b)**2), 5)"
   ]
  },
  {
   "cell_type": "code",
   "execution_count": 37,
   "id": "9aaec7d7-4903-4e77-be8e-1b1bf2903aca",
   "metadata": {},
   "outputs": [],
   "source": [
    "#get an example for each class\n",
    "alpha_example = df[df.label=='alpha'].sample(1).iloc[0].embedding\n",
    "beta_example = df[df.label=='beta'].sample(1).iloc[0].embedding\n",
    "gamma_example = df[df.label=='gamma'].sample(1).iloc[0].embedding"
   ]
  },
  {
   "cell_type": "code",
   "execution_count": 38,
   "id": "0ab377eb-253e-49c7-8338-78c7e4f61244",
   "metadata": {},
   "outputs": [
    {
     "name": "stdout",
     "output_type": "stream",
     "text": [
      "Row: 0, Label: beta, alpha ssd: 3.3076701164245605, beta ssd: 0.8458899855613708, gamma ssd: 1.114590048789978\n",
      "Row: 1, Label: alpha, alpha ssd: 5.2890400886535645, beta ssd: 3.6689200401306152, gamma ssd: 5.0160298347473145\n",
      "Row: 2, Label: alpha, alpha ssd: 2.8343300819396973, beta ssd: 2.602760076522827, gamma ssd: 3.948040008544922\n",
      "Row: 3, Label: alpha, alpha ssd: 4.613080024719238, beta ssd: 1.8827999830245972, gamma ssd: 3.0979199409484863\n",
      "Row: 4, Label: gamma, alpha ssd: 23.662370681762695, beta ssd: 22.19215965270996, gamma ssd: 20.976009368896484\n",
      "Row: 5, Label: gamma, alpha ssd: 13.96090030670166, beta ssd: 11.873350143432617, gamma ssd: 11.737959861755371\n",
      "Row: 6, Label: gamma, alpha ssd: 27.59284019470215, beta ssd: 25.729089736938477, gamma ssd: 25.30583953857422\n",
      "Row: 7, Label: alpha, alpha ssd: 4.017139911651611, beta ssd: 2.3863000869750977, gamma ssd: 2.8466899394989014\n",
      "Row: 8, Label: beta, alpha ssd: 9.519490242004395, beta ssd: 7.966939926147461, gamma ssd: 8.912309646606445\n",
      "Row: 9, Label: alpha, alpha ssd: 3.3557400703430176, beta ssd: 0.743149995803833, gamma ssd: 1.4853500127792358\n",
      "Row: 10, Label: beta, alpha ssd: 2.4586799144744873, beta ssd: 0.0, gamma ssd: 1.9204000234603882\n",
      "Row: 11, Label: gamma, alpha ssd: 18.24686050415039, beta ssd: 17.714969635009766, gamma ssd: 17.825820922851562\n",
      "Row: 12, Label: beta, alpha ssd: 2.7684500217437744, beta ssd: 1.348580002784729, gamma ssd: 3.4504499435424805\n",
      "Row: 13, Label: alpha, alpha ssd: 2.336469888687134, beta ssd: 0.22012999653816223, gamma ssd: 1.9009599685668945\n",
      "Row: 14, Label: beta, alpha ssd: 4.312339782714844, beta ssd: 1.0324499607086182, gamma ssd: 1.4724500179290771\n",
      "Row: 15, Label: alpha, alpha ssd: 0.0, beta ssd: 2.4586799144744873, gamma ssd: 3.9994499683380127\n",
      "Row: 16, Label: gamma, alpha ssd: 19.669639587402344, beta ssd: 17.638229370117188, gamma ssd: 17.223590850830078\n",
      "Row: 17, Label: alpha, alpha ssd: 3.882159948348999, beta ssd: 1.6713800430297852, gamma ssd: 1.9750100374221802\n",
      "Row: 18, Label: beta, alpha ssd: 5.1792497634887695, beta ssd: 1.604140043258667, gamma ssd: 2.4656600952148438\n",
      "Row: 19, Label: gamma, alpha ssd: 9.448670387268066, beta ssd: 6.460140228271484, gamma ssd: 5.854829788208008\n",
      "Row: 20, Label: gamma, alpha ssd: 3.9994499683380127, beta ssd: 1.9204000234603882, gamma ssd: 0.0\n",
      "Row: 21, Label: beta, alpha ssd: 4.2007598876953125, beta ssd: 1.6868799924850464, gamma ssd: 1.4367200136184692\n",
      "Row: 22, Label: beta, alpha ssd: 3.290719985961914, beta ssd: 1.5289000272750854, gamma ssd: 2.862149953842163\n",
      "Row: 23, Label: gamma, alpha ssd: 11.450570106506348, beta ssd: 10.226980209350586, gamma ssd: 10.5139799118042\n",
      "Row: 24, Label: beta, alpha ssd: 4.181139945983887, beta ssd: 0.9496099948883057, gamma ssd: 1.3248499631881714\n",
      "Row: 25, Label: gamma, alpha ssd: 8.669099807739258, beta ssd: 7.022659778594971, gamma ssd: 8.852720260620117\n",
      "Row: 26, Label: alpha, alpha ssd: 3.565459966659546, beta ssd: 2.0129098892211914, gamma ssd: 3.2601099014282227\n"
     ]
    }
   ],
   "source": [
    "for idx, row in df.iterrows():\n",
    "    feature_vector = row.embedding.flatten()\n",
    "    alpha_example_ssd = ssd(alpha_example, feature_vector)\n",
    "    beta_example_ssd = ssd(beta_example, feature_vector)\n",
    "    gamma_example_ssd = ssd(gamma_example, feature_vector)\n",
    "    print('Row: {}, Label: {}, alpha ssd: {}, beta ssd: {}, gamma ssd: {}'.format(idx, row['label'], alpha_example_ssd, beta_example_ssd, gamma_example_ssd)) "
   ]
  },
  {
   "cell_type": "code",
   "execution_count": 44,
   "id": "4088af30-8bee-427a-aa33-47222305c224",
   "metadata": {},
   "outputs": [
    {
     "data": {
      "text/plain": [
       "0.7777777777777778"
      ]
     },
     "execution_count": 44,
     "metadata": {},
     "output_type": "execute_result"
    }
   ],
   "source": [
    "#train KNN model and score\n",
    "from sklearn.neighbors import KNeighborsClassifier\n",
    "\n",
    "knn = KNeighborsClassifier(n_neighbors=5)\n",
    "knn.fit(embeddings, labels)\n",
    "knn.score(embeddings, labels)"
   ]
  },
  {
   "cell_type": "code",
   "execution_count": 49,
   "id": "e3ffde67-94a9-437c-a9c6-f2291506df01",
   "metadata": {},
   "outputs": [],
   "source": [
    "#iterate over greek alphabet images\n",
    "\n",
    "images_test, labels_test = [], []\n",
    "\n",
    "DIR = 'greek_letters_drawn'\n",
    "\n",
    "for file in os.listdir(DIR):\n",
    "    if file.endswith('.png'):\n",
    "        #read image\n",
    "        img = cv2.imread(DIR+'/'+file)\n",
    "        #resize to 28x28\n",
    "        img = cv2.resize(img, (28,28))\n",
    "        #convert greyscale\n",
    "        img = cv2.cvtColor(img, cv2.COLOR_BGR2GRAY)\n",
    "        #convert to channel first\n",
    "        img = img.reshape(-1, 28, 28)\n",
    "        #get label\n",
    "        label = file.split('.')[0]\n",
    "        \n",
    "        #store as image and label\n",
    "        images_test.append(img)\n",
    "        labels_test.append(label)"
   ]
  },
  {
   "cell_type": "code",
   "execution_count": 50,
   "id": "56e1450a-27b5-4a27-8c8c-82ba06a0f263",
   "metadata": {},
   "outputs": [
    {
     "data": {
      "text/plain": [
       "<matplotlib.image.AxesImage at 0x2b4fb501cc10>"
      ]
     },
     "execution_count": 50,
     "metadata": {},
     "output_type": "execute_result"
    },
    {
     "data": {
      "image/png": "[encoded data removed]",
      "text/plain": [
       "<Figure size 432x288 with 1 Axes>"
      ]
     },
     "metadata": {
      "needs_background": "light"
     },
     "output_type": "display_data"
    }
   ],
   "source": [
    "#show 28x28 of drawn greek letters\n",
    "import matplotlib.pyplot as plt\n",
    "\n",
    "plt.imshow(images_test[0].reshape(28,28))"
   ]
  },
  {
   "cell_type": "code",
   "execution_count": 54,
   "id": "50c02f58-36c1-43ae-8a8e-d26db18a463d",
   "metadata": {},
   "outputs": [],
   "source": [
    "#create embeddings using the submodel\n",
    "embeddings_test = []\n",
    "for img in images_test:\n",
    "    embed = submodel(torch.tensor([img], dtype=torch.float32))\n",
    "    embeddings_test.append(embed.detach().numpy().flatten())"
   ]
  },
  {
   "cell_type": "code",
   "execution_count": 55,
   "id": "3108f408-323e-4e88-ab64-bef5754f8692",
   "metadata": {},
   "outputs": [
    {
     "data": {
      "text/plain": [
       "0.3333333333333333"
      ]
     },
     "execution_count": 55,
     "metadata": {},
     "output_type": "execute_result"
    }
   ],
   "source": [
    "#predict drawn greek letters\n",
    "knn.score(embeddings_test, labels_test)"
   ]
  },
  {
   "cell_type": "code",
   "execution_count": 56,
   "id": "7e3ce6b0-675c-4f38-abbf-891fba774347",
   "metadata": {},
   "outputs": [
    {
     "data": {
      "text/plain": [
       "['alpha', 'gamma', 'beta']"
      ]
     },
     "execution_count": 56,
     "metadata": {},
     "output_type": "execute_result"
    }
   ],
   "source": [
    "labels_test"
   ]
  },
  {
   "cell_type": "code",
   "execution_count": null,
   "id": "23afe1fb-9113-4470-8cee-7bb12a013043",
   "metadata": {},
   "outputs": [],
   "source": []
  }
 ],
 "metadata": {
  "kernelspec": {
   "display_name": "Python 3 (ipykernel)",
   "language": "python",
   "name": "python3"
  },
  "language_info": {
   "codemirror_mode": {
    "name": "ipython",
    "version": 3
   },
   "file_extension": ".py",
   "mimetype": "text/x-python",
   "name": "python",
   "nbconvert_exporter": "python",
   "pygments_lexer": "ipython3",
   "version": "3.7.11"
  }
 },
 "nbformat": 4,
 "nbformat_minor": 5
}
